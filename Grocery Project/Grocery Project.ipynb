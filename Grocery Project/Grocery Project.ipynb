{
 "cells": [
  {
   "cell_type": "code",
   "execution_count": 1009,
   "metadata": {},
   "outputs": [],
   "source": [
    "import pandas as pd\n",
    "import numpy as np\n",
    "import math as m1"
   ]
  },
  {
   "cell_type": "code",
   "execution_count": 1010,
   "metadata": {},
   "outputs": [],
   "source": [
    "def genNodes(fileName):\n",
    "    arcs = pd.read_csv(fileName)\n",
    "    nodes = {}\n",
    "    \n",
    "    for node1, row in arcs.iterrows():\n",
    "        for i in range(1,len(row)):\n",
    "            if node1 in nodes and row[i] == 1 and node1 != i-1:\n",
    "                nodes[node1].append(i-1)\n",
    "                if i-1 in nodes:\n",
    "                    nodes[i-1].append(node1)\n",
    "                else:\n",
    "                    nodes[i-1] = [node1]\n",
    "            else:\n",
    "                if row[i] == 1 and i-1 != node1:\n",
    "                    nodes[node1] = [i-1]\n",
    "                    if i-1 in nodes:\n",
    "                        nodes[i-1].append(node1)\n",
    "                    else:\n",
    "                        nodes[i-1] = [node1]\n",
    "    \n",
    "    for node in nodes:\n",
    "        temp = set(nodes[node])\n",
    "        temp2 = list(temp)\n",
    "        nodes[node] = temp2\n",
    "    \n",
    "    return nodes\n",
    "    \n",
    "nodes = genNodes('storeModelArcs.csv')\n",
    "# print(nodes)"
   ]
  },
  {
   "cell_type": "code",
   "execution_count": 1011,
   "metadata": {},
   "outputs": [],
   "source": [
    "# print(nodes)"
   ]
  },
  {
   "cell_type": "code",
   "execution_count": 1012,
   "metadata": {},
   "outputs": [],
   "source": [
    "def genCosts(fileName):\n",
    "    distances = pd.read_csv(fileName)\n",
    "    costs = {}\n",
    "\n",
    "    for _, row in distances.iterrows():\n",
    "        node1 = row['Start Node']\n",
    "        node2 = row['End Node']\n",
    "        cost = row['Cost (ft)']\n",
    "    \n",
    "        costs[(node1, node2)] = cost\n",
    "        costs[(node2, node1)] = cost\n",
    "    \n",
    "    return costs\n",
    "\n",
    "costs = genCosts('storeModelArcLengths.csv')"
   ]
  },
  {
   "cell_type": "code",
   "execution_count": 1013,
   "metadata": {},
   "outputs": [
    {
     "name": "stdout",
     "output_type": "stream",
     "text": [
      "{(0, 0): 0, (0, 1): 12, (1, 0): 12, (1, 1): 0, (1, 2): 9, (2, 1): 9, (1, 10): 18, (10, 1): 18, (2, 2): 0, (2, 3): 9, (3, 2): 9, (2, 12): 24, (12, 2): 24, (2, 37): 0, (37, 2): 0, (3, 3): 0, (3, 4): 12, (4, 3): 12, (3, 14): 24, (14, 3): 24, (3, 36): 0, (36, 3): 0, (4, 4): 0, (4, 5): 12, (5, 4): 12, (4, 16): 24, (16, 4): 24, (4, 35): 0, (35, 4): 0, (5, 5): 0, (5, 6): 12, (6, 5): 12, (5, 18): 24, (18, 5): 24, (5, 34): 0, (34, 5): 0, (6, 6): 0, (6, 7): 9, (7, 6): 9, (6, 20): 24, (20, 6): 24, (6, 33): 12, (33, 6): 12, (7, 7): 0, (7, 8): 6, (8, 7): 6, (7, 22): 24, (22, 7): 24, (7, 32): 12, (32, 7): 12, (8, 8): 0, (8, 23): 24, (23, 8): 24, (8, 31): 12, (31, 8): 12, (9, 9): 0, (9, 10): 12, (10, 9): 12, (10, 10): 0, (10, 11): 12, (11, 10): 12, (11, 11): 0, (11, 12): 9, (12, 11): 9, (11, 24): 24, (24, 11): 24, (12, 12): 0, (12, 13): 3, (13, 12): 3, (13, 13): 0, (13, 14): 6, (14, 13): 6, (13, 25): 24, (25, 13): 24, (14, 14): 0, (14, 15): 6, (15, 14): 6, (15, 15): 0, (15, 16): 6, (16, 15): 6, (15, 26): 24, (26, 15): 24, (16, 16): 0, (16, 17): 6, (17, 16): 6, (17, 17): 0, (17, 18): 6, (18, 17): 6, (17, 27): 24, (27, 17): 24, (18, 18): 0, (18, 19): 6, (19, 18): 6, (19, 19): 0, (19, 20): 6, (20, 19): 6, (19, 28): 24, (28, 19): 24, (20, 20): 0, (20, 21): 3, (21, 20): 3, (21, 21): 0, (21, 22): 6, (22, 21): 6, (21, 29): 24, (29, 21): 24, (22, 22): 0, (22, 23): 6, (23, 22): 6, (22, 30): 24, (30, 22): 24, (23, 23): 0, (24, 24): 0, (24, 25): 12, (25, 24): 12, (25, 25): 0, (25, 26): 12, (26, 25): 12, (26, 26): 0, (26, 27): 12, (27, 26): 12, (27, 27): 0, (27, 28): 12, (28, 27): 12, (28, 28): 0, (28, 29): 12, (29, 28): 12, (29, 29): 0, (29, 30): 6, (30, 29): 6, (30, 30): 0, (31, 31): 0, (31, 32): 6, (32, 31): 6, (32, 32): 0, (32, 33): 9, (33, 32): 9, (33, 33): 0, (33, 34): 0, (34, 33): 0, (34, 34): 0, (34, 35): 0, (35, 34): 0, (35, 35): 0, (35, 36): 0, (36, 35): 0, (36, 36): 0, (36, 37): 0, (37, 36): 0, (37, 37): 0, (37, 0): 0, (0, 37): 0}\n"
     ]
    }
   ],
   "source": [
    "print(costs)"
   ]
  },
  {
   "cell_type": "code",
   "execution_count": 1014,
   "metadata": {},
   "outputs": [],
   "source": [
    "def genItems(fileName):\n",
    "    df = pd.read_csv(fileName)\n",
    "    nodes = {}\n",
    "    \n",
    "    for node1, row in df.iterrows():\n",
    "        start = row['Start Node']\n",
    "        end = row['End Node']\n",
    "        description = row['Description']\n",
    "        descriptions = description.split(',')\n",
    "        for item in descriptions:\n",
    "            cleaned = item.strip()\n",
    "            if cleaned not in nodes:\n",
    "                nodes[cleaned] = [(start, end)]\n",
    "            else:\n",
    "                nodes[cleaned].append((start, end))\n",
    "                \n",
    "    return nodes\n",
    "                \n",
    "# nodes = genNodes('storeModelArcs.csv')\n",
    "items = genItems('storeModelNodeDescriptions.csv')\n",
    "# print(items)"
   ]
  },
  {
   "cell_type": "code",
   "execution_count": 1015,
   "metadata": {},
   "outputs": [],
   "source": [
    "def genOddNodes(nodeList):\n",
    "    oddNodes = set()\n",
    "    for node in nodeList.keys():\n",
    "        edges = len(nodeList[node])\n",
    "        \n",
    "        if (edges)%2 == 0:\n",
    "            pass\n",
    "        else:\n",
    "            oddNodes.add(node)\n",
    "    \n",
    "    return oddNodes"
   ]
  },
  {
   "cell_type": "code",
   "execution_count": 1016,
   "metadata": {},
   "outputs": [
    {
     "name": "stdout",
     "output_type": "stream",
     "text": [
      "{1, 2, 8, 9, 10, 11, 12, 13, 14, 15, 16, 17, 18, 19, 20, 21, 25, 26, 27, 28, 29, 32, 33, 34, 35, 36}\n",
      "26\n"
     ]
    }
   ],
   "source": [
    "odds = genOddNodes(nodes)\n",
    "print(odds)\n",
    "print(len(odds))"
   ]
  },
  {
   "cell_type": "markdown",
   "metadata": {},
   "source": [
    "#### Floyd Warshall Algorithm\n",
    "\n",
    "We will use the Floyd Warshall Algorithm to generate all pairs shortest paths between nodes, this will help us match up odd degree nodes for the CPP problem\n",
    "\n",
    "more can be found on the Floyd Warshall Algorithm at the following links\n",
    "\n",
    "[Source 1](https://www.geeksforgeeks.org/floyd-warshall-algorithm-dp-16/)\n",
    "\n",
    "[Source 2](https://en.wikipedia.org/wiki/Floyd%E2%80%93Warshall_algorithm)\n",
    "\n",
    "[Source 3](https://www.geeksforgeeks.org/finding-shortest-path-between-any-two-nodes-using-floyd-warshall-algorithm/)"
   ]
  },
  {
   "cell_type": "code",
   "execution_count": 1017,
   "metadata": {},
   "outputs": [],
   "source": [
    "def fw(graph, costs):\n",
    "    numNodes = len(nodes)\n",
    "    \n",
    "    solutionMatrix = [[0 if i==j else m1.inf for j in range(0,numNodes)] for i in range(0,numNodes)]\n",
    "    path = [[None for i in range(0, numNodes)] for j in range(0, numNodes)]\n",
    "    \n",
    "    for node in graph:\n",
    "        for adjacentNode in graph[node]:\n",
    "            solutionMatrix[node][adjacentNode] = costs[(node, adjacentNode)]\n",
    "            path[node][adjacentNode] = adjacentNode\n",
    "    \n",
    "    for k in range(0, numNodes):\n",
    "        for i in range(0, numNodes):\n",
    "            for j in range(0, numNodes):\n",
    "                if solutionMatrix[i][j] > solutionMatrix[i][k] + solutionMatrix[k][j]:\n",
    "                    solutionMatrix[i][j] = solutionMatrix[i][k] + solutionMatrix[k][j]\n",
    "                    path[i][j] = path[i][k]\n",
    "    \n",
    "    return solutionMatrix, path\n",
    "                "
   ]
  },
  {
   "cell_type": "code",
   "execution_count": 1018,
   "metadata": {},
   "outputs": [],
   "source": [
    "shortestPaths, pathTracking = fw(nodes, costs)\n",
    "oddNodes = genOddNodes(nodes)\n",
    "# print(shortestPaths)"
   ]
  },
  {
   "cell_type": "code",
   "execution_count": 1019,
   "metadata": {},
   "outputs": [
    {
     "name": "stdout",
     "output_type": "stream",
     "text": [
      "[0, 37, 36, 35, 34, 5, 6, 7, 22, 30] 69\n"
     ]
    }
   ],
   "source": [
    "def generatePath(shortestPaths, pathTracking, start, end):\n",
    "    root = start\n",
    "    end = end\n",
    "    current = start\n",
    "    path = [root]\n",
    "    \n",
    "    while current != end:\n",
    "        current = pathTracking[current][end]\n",
    "        path.append(current)\n",
    "        \n",
    "    cost = shortestPaths[root][end]\n",
    "    return path, cost\n",
    "\n",
    "path, cost = generatePath(shortestPaths, pathTracking, 0, 30)\n",
    "print(path, cost)"
   ]
  },
  {
   "cell_type": "markdown",
   "metadata": {},
   "source": [
    "#### Graph Functions To Support Graph Augmentation and Fleury's Algorithm"
   ]
  },
  {
   "cell_type": "code",
   "execution_count": 1020,
   "metadata": {},
   "outputs": [],
   "source": [
    "def deleteEdge(start, finish, graph):\n",
    "    for i in range(0, len(graph[start])):\n",
    "        if graph[start][i] == finish:\n",
    "            graph[start].pop(i)\n",
    "            break\n",
    "\n",
    "    for i in range(0, len(graph[finish])):\n",
    "        if graph[finish][i] == start:\n",
    "            graph[finish].pop(i)\n",
    "            break\n",
    "    \n",
    "    return graph\n",
    "\n",
    "def addEdge(start, finish, graph):\n",
    "    if start in graph:\n",
    "        graph[start].append(finish)\n",
    "        if finish in graph:\n",
    "            graph[finish].append(start)\n",
    "        else:\n",
    "            graph[finish] = [start]\n",
    "            \n",
    "    else:\n",
    "        graph[start] = [finish]\n",
    "        if finish in graph:\n",
    "            graph[finish].append(start)\n",
    "        else:\n",
    "            graph[finish] = [start]\n",
    "        \n",
    "    return graph"
   ]
  },
  {
   "cell_type": "markdown",
   "metadata": {},
   "source": [
    "#### Minimum Cost Pairwise Matching\n",
    "\n",
    "Blossom Algorithm\n",
    "\n",
    "Use linear programming"
   ]
  },
  {
   "cell_type": "markdown",
   "metadata": {},
   "source": [
    "Minimize $\\sum_{(i,j) \\in A}C_{i,j}*X_{i,j}$\n",
    "\n",
    "$s.t. \\sum_{j \\in N}X_{i,j} = 1 \\forall i \\in N$\n",
    "           \n",
    "$X_{i,j} \\in {0,1} \\forall (i,j) \\in A$"
   ]
  },
  {
   "cell_type": "code",
   "execution_count": 1021,
   "metadata": {},
   "outputs": [
    {
     "name": "stdout",
     "output_type": "stream",
     "text": [
      "Gurobi Optimizer version 10.0.1 build v10.0.1rc0 (mac64[x86])\n",
      "\n",
      "CPU model: Intel(R) Core(TM) i5-8279U CPU @ 2.40GHz\n",
      "Thread count: 4 physical cores, 8 logical processors, using up to 8 threads\n",
      "\n",
      "Optimize a model with 377 rows, 676 columns and 1677 nonzeros\n",
      "Model fingerprint: 0x51214960\n",
      "Variable types: 0 continuous, 676 integer (676 binary)\n",
      "Coefficient statistics:\n",
      "  Matrix range     [1e+00, 2e+00]\n",
      "  Objective range  [3e+00, 1e+02]\n",
      "  Bounds range     [1e+00, 1e+00]\n",
      "  RHS range        [1e+00, 1e+00]\n",
      "Found heuristic solution: objective 570.0000000\n",
      "Presolve removed 351 rows and 351 columns\n",
      "Presolve time: 0.00s\n",
      "Presolved: 26 rows, 325 columns, 650 nonzeros\n",
      "Variable types: 0 continuous, 325 integer (325 binary)\n",
      "\n",
      "Root relaxation: objective 1.080000e+02, 23 iterations, 0.00 seconds (0.00 work units)\n",
      "\n",
      "    Nodes    |    Current Node    |     Objective Bounds      |     Work\n",
      " Expl Unexpl |  Obj  Depth IntInf | Incumbent    BestBd   Gap | It/Node Time\n",
      "\n",
      "     0     0  108.00000    0    6  570.00000  108.00000  81.1%     -    0s\n",
      "H    0     0                     129.0000000  108.00000  16.3%     -    0s\n",
      "H    0     0                     120.0000000  108.00000  10.0%     -    0s\n",
      "     0     0  111.00000    0    6  120.00000  111.00000  7.50%     -    0s\n",
      "H    0     1                     117.0000000  111.00000  5.13%     -    0s\n",
      "\n",
      "Cutting planes:\n",
      "  Clique: 2\n",
      "  Mod-K: 1\n",
      "\n",
      "Explored 1 nodes (26 simplex iterations) in 0.03 seconds (0.00 work units)\n",
      "Thread count was 8 (of 8 available processors)\n",
      "\n",
      "Solution count 4: 117 120 129 570 \n",
      "\n",
      "Optimal solution found (tolerance 1.00e-04)\n",
      "Best objective 1.170000000000e+02, best bound 1.170000000000e+02, gap 0.0000%\n",
      "[(1, 2), (8, 32), (9, 10), (11, 12), (13, 25), (14, 15), (16, 17), (18, 19), (20, 21), (26, 27), (28, 29), (33, 34), (35, 36)]\n"
     ]
    }
   ],
   "source": [
    "def minimizeEdgeSum(shortestPaths, oddNodes):\n",
    "    oddNodesList = list(oddNodes)\n",
    "\n",
    "    mdl = Model('Matching')\n",
    "    mdl.modelSense = GRB.MINIMIZE\n",
    "\n",
    "    var = range(len(oddNodesList))\n",
    "    allNodes = [i for i in range(0,len(shortestPaths))]\n",
    "\n",
    "    x = mdl.addVars(var, var, vtype=GRB.BINARY, name=\"Pairings\")\n",
    "\n",
    "    mdl.setObjective(quicksum(x[i,j] * shortestPaths[oddNodesList[i]][oddNodesList[j]] for i in var for j in var))\n",
    "\n",
    "    mdl.addConstrs(quicksum(x[i,j]+x[j,i] for j in var) == 1 for i in var)\n",
    "    mdl.addConstrs(x[i,j] == 0 for j in var for i in var if j <= i)\n",
    "\n",
    "    mdl.optimize()\n",
    "    results = []\n",
    "    \n",
    "    for v in mdl.getVars():\n",
    "        if v.x == 1:\n",
    "            results.append(v.varName)\n",
    "    \n",
    "    newResults = []\n",
    "    for pair in results:\n",
    "        temp = pair[9:-1].split(',')\n",
    "        n1 = oddNodesList[int(temp[0])]\n",
    "        n2 = oddNodesList[int(temp[1])]\n",
    "        newResults.append((n1, n2))\n",
    "\n",
    "    results = newResults\n",
    "    \n",
    "    minimumCostPairing = results\n",
    "    \n",
    "    return minimumCostPairing \n",
    "    \n",
    "minCost = minimizeEdgeSum(shortestPaths, oddNodes)\n",
    "print(minCost)"
   ]
  },
  {
   "cell_type": "code",
   "execution_count": 1022,
   "metadata": {},
   "outputs": [],
   "source": [
    "def buildMinGraph(nodes, shortestPaths, pairs, costs):\n",
    "    new = nodes\n",
    "    for pair in pairs:\n",
    "        node1, node2 = pair\n",
    "        new = addEdge(node1, node2, new)\n",
    "        costs[(node1, node2)] = shortestPaths[node1][node2]\n",
    "        costs[(node2, node1)] = shortestPaths[node2][node1]\n",
    "\n",
    "    return new\n",
    "\n",
    "# res = buildMinGraph(nodes, shortestPaths, minCost, costs)"
   ]
  },
  {
   "cell_type": "markdown",
   "metadata": {},
   "source": [
    "## Generating Eulerian Path\n",
    "\n",
    "##### Fleury's Algorithm\n",
    "\n",
    "Use Fleury's Algorithm to implement Eulerian Cycle Path\n",
    "\n",
    "[Source 1](https://www.geeksforgeeks.org/fleurys-algorithm-for-printing-eulerian-path/)"
   ]
  },
  {
   "cell_type": "code",
   "execution_count": 1023,
   "metadata": {},
   "outputs": [],
   "source": [
    "def dfsCount(start, visited, graph):\n",
    "    visited[start] = True\n",
    "    count = 1\n",
    "    \n",
    "    for adjacent in graph[start]:\n",
    "        if visited[adjacent] == False:\n",
    "            count += dfsCount(adjacent, visited, graph)\n",
    "    return count\n",
    "\n",
    "def validNextEdge(start, finish, nodes):\n",
    "    if len(nodes[start]) == 1:\n",
    "        return True\n",
    "    else:\n",
    "        visited = [False for i in range(0, len(nodes))]\n",
    "        count1 = dfsCount(start, visited, nodes)\n",
    "        \n",
    "        nodes = deleteEdge(start, finish, nodes)\n",
    "        \n",
    "        visited = [False for i in range(0, len(nodes))]\n",
    "        count2 = dfsCount(start, visited, nodes)\n",
    "        \n",
    "        nodes = addEdge(start, finish, nodes)\n",
    "        \n",
    "        if count1 > count2:\n",
    "            return False\n",
    "        else:\n",
    "            return True\n",
    "        \n",
    "def fleuryHelper(vertex, nodes, path):\n",
    "    for adjacentNode in nodes[vertex]:\n",
    "        if validNextEdge(vertex, adjacentNode, nodes):\n",
    "            nodes = deleteEdge(vertex, adjacentNode, nodes)\n",
    "            path.append((vertex, adjacentNode))\n",
    "            fleuryHelper(adjacentNode, nodes, path)\n",
    "            \n",
    "    return path\n",
    "    \n",
    "def fleurys(nodes):\n",
    "    startVertex = 0\n",
    "    \n",
    "    for node in nodes:\n",
    "        if len(nodes[node]) % 2 != 0:\n",
    "            startVertex = node\n",
    "            break\n",
    "        \n",
    "    return fleuryHelper(startVertex, nodes, [])"
   ]
  },
  {
   "cell_type": "code",
   "execution_count": 1024,
   "metadata": {},
   "outputs": [
    {
     "name": "stdout",
     "output_type": "stream",
     "text": [
      "[0, 37, 36, 35, 34, 5, 6, 7, 22, 30]\n",
      "[(0, 1), (1, 2), (2, 0)]\n",
      "[(0, 1), (1, 2), (2, 0), (0, 3), (3, 4), (4, 2), (2, 3), (3, 1)]\n"
     ]
    }
   ],
   "source": [
    "demo1 = {0: [1,2], 1: [0,2], 2: [0,1,3], 3: [2]}\n",
    "path1 = fleurys(demo1)\n",
    "print(path)\n",
    "\n",
    "demo2 = {0:[1,2], 1:[0,2], 2:[1,0]}\n",
    "path2 = fleurys(demo2)\n",
    "print(path2)\n",
    "\n",
    "demo3 = {0:[1,2,3], 1:[0,2,3], 2:[0,1,3,4], 3:[0,4,2,1], 4:[3,2]}\n",
    "path3 = fleurys(demo3)\n",
    "print(path3)"
   ]
  },
  {
   "cell_type": "markdown",
   "metadata": {},
   "source": [
    "Rural CPP Example\n",
    "\n",
    "InstaCart type example"
   ]
  },
  {
   "cell_type": "markdown",
   "metadata": {},
   "source": [
    "#### CPP Algorithm"
   ]
  },
  {
   "cell_type": "code",
   "execution_count": 1025,
   "metadata": {},
   "outputs": [
    {
     "name": "stdout",
     "output_type": "stream",
     "text": [
      "Gurobi Optimizer version 10.0.1 build v10.0.1rc0 (mac64[x86])\n",
      "\n",
      "CPU model: Intel(R) Core(TM) i5-8279U CPU @ 2.40GHz\n",
      "Thread count: 4 physical cores, 8 logical processors, using up to 8 threads\n",
      "\n",
      "Optimize a model with 377 rows, 676 columns and 1677 nonzeros\n",
      "Model fingerprint: 0x51214960\n",
      "Variable types: 0 continuous, 676 integer (676 binary)\n",
      "Coefficient statistics:\n",
      "  Matrix range     [1e+00, 2e+00]\n",
      "  Objective range  [3e+00, 1e+02]\n",
      "  Bounds range     [1e+00, 1e+00]\n",
      "  RHS range        [1e+00, 1e+00]\n",
      "Found heuristic solution: objective 570.0000000\n",
      "Presolve removed 351 rows and 351 columns\n",
      "Presolve time: 0.00s\n",
      "Presolved: 26 rows, 325 columns, 650 nonzeros\n",
      "Variable types: 0 continuous, 325 integer (325 binary)\n",
      "\n",
      "Root relaxation: objective 1.080000e+02, 23 iterations, 0.00 seconds (0.00 work units)\n",
      "\n",
      "    Nodes    |    Current Node    |     Objective Bounds      |     Work\n",
      " Expl Unexpl |  Obj  Depth IntInf | Incumbent    BestBd   Gap | It/Node Time\n",
      "\n",
      "     0     0  108.00000    0    6  570.00000  108.00000  81.1%     -    0s\n",
      "H    0     0                     129.0000000  108.00000  16.3%     -    0s\n",
      "H    0     0                     120.0000000  108.00000  10.0%     -    0s\n",
      "     0     0  111.00000    0    6  120.00000  111.00000  7.50%     -    0s\n",
      "H    0     1                     117.0000000  111.00000  5.13%     -    0s\n",
      "\n",
      "Cutting planes:\n",
      "  Clique: 2\n",
      "  Mod-K: 1\n",
      "\n",
      "Explored 1 nodes (26 simplex iterations) in 0.03 seconds (0.00 work units)\n",
      "Thread count was 8 (of 8 available processors)\n",
      "\n",
      "Solution count 4: 117 120 129 570 \n",
      "\n",
      "Optimal solution found (tolerance 1.00e-04)\n",
      "Best objective 1.170000000000e+02, best bound 1.170000000000e+02, gap 0.0000%\n"
     ]
    }
   ],
   "source": [
    "def cpp(nodes, costs, shortestPaths):\n",
    "    oddNodes = genOddNodes(nodes)\n",
    "    \n",
    "    if len(oddNodes) == 0:\n",
    "        return fleurys(nodes)\n",
    "    \n",
    "    else:\n",
    "        pairwiseMatching = minimizeEdgeSum(shortestPaths, oddNodes)\n",
    "        newGraph = buildMinGraph(nodes, shortestPaths, pairwiseMatching, costs)\n",
    "        \n",
    "        result = fleurys(newGraph)\n",
    "    \n",
    "        return result, pairwiseMatching\n",
    "\n",
    "res, match = cpp(nodes, costs, shortestPaths) "
   ]
  },
  {
   "cell_type": "code",
   "execution_count": 1039,
   "metadata": {},
   "outputs": [],
   "source": [
    "def fullPath(res, match, shortestPaths, pathTracking, costs):\n",
    "    fullPath = []\n",
    "    duplicateEdges = []\n",
    "    totalCost = 0\n",
    "    additionalCost = 0\n",
    "    checker = set(match)\n",
    "    for edge in res:\n",
    "        if edge not in checker:\n",
    "            fullPath.append(edge)\n",
    "            totalCost += costs[edge]\n",
    "        else:\n",
    "            path, cost = generatePath(shortestPaths, pathTracking, edge[0], edge[1])\n",
    "            totalCost += cost\n",
    "            additionalCost += cost\n",
    "            for i in range(0,len(path)-1):\n",
    "                fullPath.append((path[i], path[i+1]))\n",
    "                duplicateEdges.append((path[i], path[i+1]))\n",
    "\n",
    "    return fullPath, duplicateEdges, totalCost, additionalCost/2\n",
    "\n",
    "finalPath, duplicateEdges, totalCost, duplicateCost = fullPath(res, match, shortestPaths, pathTracking, costs)"
   ]
  },
  {
   "cell_type": "code",
   "execution_count": 1040,
   "metadata": {},
   "outputs": [
    {
     "name": "stdout",
     "output_type": "stream",
     "text": [
      "[(0, 1), (1, 2), (2, 3), (3, 4), (4, 16), (16, 17), (17, 18), (18, 19), (19, 20), (20, 21), (21, 29), (29, 28), (28, 27), (27, 17), (17, 16), (16, 15), (15, 26), (26, 27), (27, 26), (26, 25), (25, 24), (24, 11), (11, 10), (10, 9), (9, 10), (10, 1), (1, 2), (2, 12), (12, 11), (11, 12), (12, 13), (13, 25), (25, 13), (13, 14), (14, 15), (15, 14), (14, 3), (3, 36), (36, 35), (35, 34), (34, 33), (33, 32), (32, 31), (31, 8), (8, 23), (23, 22), (22, 21), (21, 20), (20, 6), (6, 33), (33, 34), (34, 5), (5, 18), (18, 19), (19, 28), (28, 29), (29, 30), (30, 22), (22, 7), (7, 8), (8, 7), (7, 32), (32, 7), (7, 6), (6, 5), (5, 4), (4, 35), (35, 36), (36, 37), (37, 0)]\n",
      "70\n"
     ]
    }
   ],
   "source": [
    "print(finalPath)\n",
    "print(len(finalPath))"
   ]
  },
  {
   "cell_type": "code",
   "execution_count": 1041,
   "metadata": {},
   "outputs": [
    {
     "name": "stdout",
     "output_type": "stream",
     "text": [
      "762\n"
     ]
    }
   ],
   "source": [
    "print(totalCost)"
   ]
  },
  {
   "cell_type": "code",
   "execution_count": 1042,
   "metadata": {},
   "outputs": [
    {
     "name": "stdout",
     "output_type": "stream",
     "text": [
      "66.0\n"
     ]
    }
   ],
   "source": [
    "print(duplicateCost)"
   ]
  },
  {
   "cell_type": "code",
   "execution_count": 1043,
   "metadata": {},
   "outputs": [
    {
     "name": "stdout",
     "output_type": "stream",
     "text": [
      "0.09482758620689655\n"
     ]
    }
   ],
   "source": [
    "print(duplicateCost/(totalCost-duplicateCost))"
   ]
  },
  {
   "cell_type": "markdown",
   "metadata": {},
   "source": [
    "$Total Cost: 762$ feet \n",
    "\n",
    "$Duplicate Cost: 117$ feet\n",
    "\n",
    "$Percent Increase: 18.1\\%$"
   ]
  },
  {
   "cell_type": "markdown",
   "metadata": {},
   "source": [
    "There are 57 edges in the graph, "
   ]
  },
  {
   "cell_type": "code",
   "execution_count": 1050,
   "metadata": {},
   "outputs": [
    {
     "name": "stdout",
     "output_type": "stream",
     "text": [
      "14\n"
     ]
    }
   ],
   "source": [
    "accountedFor = set()\n",
    "doubles = []\n",
    "for edge in finalPath:\n",
    "    node1, node2 = edge\n",
    "    if (node1, node2) in accountedFor or (node2, node1) in accountedFor:\n",
    "        doubles.append(edge)\n",
    "    else:\n",
    "        accountedFor.add(edge)\n",
    "        \n",
    "print(len(doubles))"
   ]
  },
  {
   "cell_type": "code",
   "execution_count": 1051,
   "metadata": {},
   "outputs": [
    {
     "name": "stdout",
     "output_type": "stream",
     "text": [
      "[(17, 16), (27, 26), (9, 10), (1, 2), (11, 12), (25, 13), (15, 14), (21, 20), (33, 34), (18, 19), (28, 29), (8, 7), (32, 7), (35, 36)]\n"
     ]
    }
   ],
   "source": [
    "print(doubles)"
   ]
  },
  {
   "cell_type": "code",
   "execution_count": 1052,
   "metadata": {},
   "outputs": [
    {
     "name": "stdout",
     "output_type": "stream",
     "text": [
      "117\n"
     ]
    }
   ],
   "source": [
    "addCost = 0\n",
    "for edge in doubles:\n",
    "    cost = shortestPaths[edge[0]][edge[1]]\n",
    "    addCost += cost\n",
    "print(addCost)"
   ]
  },
  {
   "cell_type": "code",
   "execution_count": 1053,
   "metadata": {},
   "outputs": [
    {
     "name": "stdout",
     "output_type": "stream",
     "text": [
      "0.1813953488372093\n"
     ]
    }
   ],
   "source": [
    "print(addCost/(totalCost-addCost))"
   ]
  },
  {
   "cell_type": "code",
   "execution_count": null,
   "metadata": {},
   "outputs": [],
   "source": []
  }
 ],
 "metadata": {
  "kernelspec": {
   "display_name": "Python 3",
   "language": "python",
   "name": "python3"
  },
  "language_info": {
   "codemirror_mode": {
    "name": "ipython",
    "version": 3
   },
   "file_extension": ".py",
   "mimetype": "text/x-python",
   "name": "python",
   "nbconvert_exporter": "python",
   "pygments_lexer": "ipython3",
   "version": "3.7.6"
  },
  "toc": {
   "base_numbering": 1,
   "nav_menu": {},
   "number_sections": false,
   "sideBar": true,
   "skip_h1_title": false,
   "title_cell": "Table of Contents",
   "title_sidebar": "Contents",
   "toc_cell": false,
   "toc_position": {},
   "toc_section_display": true,
   "toc_window_display": true
  }
 },
 "nbformat": 4,
 "nbformat_minor": 4
}
